{
  "nbformat": 4,
  "nbformat_minor": 0,
  "metadata": {
    "colab": {
      "provenance": []
    },
    "kernelspec": {
      "name": "python3",
      "display_name": "Python 3"
    },
    "language_info": {
      "name": "python"
    }
  },
  "cells": [
    {
      "cell_type": "markdown",
      "source": [
        "## 安装必要的库"
      ],
      "metadata": {
        "id": "JnfgFh8f2Ynb"
      }
    },
    {
      "cell_type": "code",
      "source": [
        "!pip install geopandas"
      ],
      "metadata": {
        "colab": {
          "base_uri": "https://localhost:8080/"
        },
        "id": "wC5bYiCx2geG",
        "outputId": "0500fa97-5bc2-4d6b-c26a-7024aa98d91f"
      },
      "execution_count": null,
      "outputs": [
        {
          "output_type": "stream",
          "name": "stdout",
          "text": [
            "Requirement already satisfied: geopandas in /usr/local/lib/python3.10/dist-packages (0.13.2)\n",
            "Requirement already satisfied: fiona>=1.8.19 in /usr/local/lib/python3.10/dist-packages (from geopandas) (1.9.6)\n",
            "Requirement already satisfied: packaging in /usr/local/lib/python3.10/dist-packages (from geopandas) (24.1)\n",
            "Requirement already satisfied: pandas>=1.1.0 in /usr/local/lib/python3.10/dist-packages (from geopandas) (2.0.3)\n",
            "Requirement already satisfied: pyproj>=3.0.1 in /usr/local/lib/python3.10/dist-packages (from geopandas) (3.6.1)\n",
            "Requirement already satisfied: shapely>=1.7.1 in /usr/local/lib/python3.10/dist-packages (from geopandas) (2.0.4)\n",
            "Requirement already satisfied: attrs>=19.2.0 in /usr/local/lib/python3.10/dist-packages (from fiona>=1.8.19->geopandas) (23.2.0)\n",
            "Requirement already satisfied: certifi in /usr/local/lib/python3.10/dist-packages (from fiona>=1.8.19->geopandas) (2024.7.4)\n",
            "Requirement already satisfied: click~=8.0 in /usr/local/lib/python3.10/dist-packages (from fiona>=1.8.19->geopandas) (8.1.7)\n",
            "Requirement already satisfied: click-plugins>=1.0 in /usr/local/lib/python3.10/dist-packages (from fiona>=1.8.19->geopandas) (1.1.1)\n",
            "Requirement already satisfied: cligj>=0.5 in /usr/local/lib/python3.10/dist-packages (from fiona>=1.8.19->geopandas) (0.7.2)\n",
            "Requirement already satisfied: six in /usr/local/lib/python3.10/dist-packages (from fiona>=1.8.19->geopandas) (1.16.0)\n",
            "Requirement already satisfied: python-dateutil>=2.8.2 in /usr/local/lib/python3.10/dist-packages (from pandas>=1.1.0->geopandas) (2.8.2)\n",
            "Requirement already satisfied: pytz>=2020.1 in /usr/local/lib/python3.10/dist-packages (from pandas>=1.1.0->geopandas) (2023.4)\n",
            "Requirement already satisfied: tzdata>=2022.1 in /usr/local/lib/python3.10/dist-packages (from pandas>=1.1.0->geopandas) (2024.1)\n",
            "Requirement already satisfied: numpy>=1.21.0 in /usr/local/lib/python3.10/dist-packages (from pandas>=1.1.0->geopandas) (1.25.2)\n"
          ]
        }
      ]
    },
    {
      "cell_type": "markdown",
      "source": [
        "## 读取CSV文件"
      ],
      "metadata": {
        "id": "xL494FHgzd5y"
      }
    },
    {
      "cell_type": "markdown",
      "source": [
        "### 纽约犯罪数据"
      ],
      "metadata": {
        "id": "jK2OdzbdPM1k"
      }
    },
    {
      "cell_type": "code",
      "source": [
        "selected_columns = ['ARREST_KEY', 'ARREST_DATE','Latitude','Longitude']\n",
        "csv_name = \"NewYork_crime_2024.csv\""
      ],
      "metadata": {
        "id": "s_NUaTFBzld1"
      },
      "execution_count": null,
      "outputs": []
    },
    {
      "cell_type": "code",
      "source": [
        "!python data_parser.py --input_file NewYork_crime_2024.csv --output_file res.json --selected_columns ARREST_KEY ARREST_DATE Latitude Longitude --geometry_file NewYork.shp --geometry_columns objectid --group_by_day"
      ],
      "metadata": {
        "colab": {
          "base_uri": "https://localhost:8080/"
        },
        "id": "z3WbuEmb1Ray",
        "outputId": "ad8c6aee-809d-48d8-b46c-e3d4832002c9"
      },
      "execution_count": null,
      "outputs": [
        {
          "output_type": "stream",
          "name": "stdout",
          "text": [
            "/content/data_parser.py:33: SettingWithCopyWarning: \n",
            "A value is trying to be set on a copy of a slice from a DataFrame\n",
            "\n",
            "See the caveats in the documentation: https://pandas.pydata.org/pandas-docs/stable/user_guide/indexing.html#returning-a-view-versus-a-copy\n",
            "  df_s.dropna(inplace=True)\n",
            "/content/data_parser.py:36: SettingWithCopyWarning: \n",
            "A value is trying to be set on a copy of a slice from a DataFrame\n",
            "\n",
            "See the caveats in the documentation: https://pandas.pydata.org/pandas-docs/stable/user_guide/indexing.html#returning-a-view-versus-a-copy\n",
            "  df_s.dropna(inplace=True)\n",
            "/content/data_parser.py:41: SettingWithCopyWarning: \n",
            "A value is trying to be set on a copy of a slice from a DataFrame.\n",
            "Try using .loc[row_indexer,col_indexer] = value instead\n",
            "\n",
            "See the caveats in the documentation: https://pandas.pydata.org/pandas-docs/stable/user_guide/indexing.html#returning-a-view-versus-a-copy\n",
            "  df_s[Time_name] = pd.to_datetime(df_s[Time_name], errors='coerce')\n",
            "\n",
            "^C\n"
          ]
        }
      ]
    },
    {
      "cell_type": "markdown",
      "source": [
        "### 纽约旅馆数据"
      ],
      "metadata": {
        "id": "yFIbbKvIPPZP"
      }
    },
    {
      "cell_type": "code",
      "source": [
        "selected_columns = ['PARID','TAXYEAR','Latitude','Longitude']\n",
        "csv_name = \"Hotel.csv\""
      ],
      "metadata": {
        "id": "hBW3eOOHN3yi"
      },
      "execution_count": null,
      "outputs": []
    },
    {
      "cell_type": "code",
      "source": [
        "!python data_parser.py --input_file Hotel.csv --output_file res.json --selected_columns PARID TAXYEAR Latitude Longitude --geometry_file NewYork.shp --geometry_columns objectid"
      ],
      "metadata": {
        "id": "ifYu_wuq1Pq2"
      },
      "execution_count": null,
      "outputs": []
    },
    {
      "cell_type": "markdown",
      "source": [
        "### 芝加哥犯罪数据"
      ],
      "metadata": {
        "id": "NOTIBAzHfMGL"
      }
    },
    {
      "cell_type": "code",
      "source": [
        "selected_columns = ['ID', 'Date','Latitude','Longitude']\n",
        "csv_name = \"Chicago_Crimes_-_2024_0711.csv\"\n",
        "print(selected_columns[0])"
      ],
      "metadata": {
        "id": "b4Fhm96UfRKd",
        "colab": {
          "base_uri": "https://localhost:8080/"
        },
        "outputId": "81f5366b-01fc-47c3-d8b2-ce744af47150"
      },
      "execution_count": null,
      "outputs": [
        {
          "output_type": "stream",
          "name": "stdout",
          "text": [
            "ID\n"
          ]
        }
      ]
    },
    {
      "cell_type": "markdown",
      "source": [
        "### 芝加哥民宿数据"
      ],
      "metadata": {
        "id": "_xUJPwVFl-L9"
      }
    },
    {
      "cell_type": "code",
      "source": [
        "selected_columns = ['id', 'price','latitude','longitude']\n",
        "csv_name = \"Chicago_airbub.csv\"\n",
        "start_date = '2024-01-01'\n",
        "end_date = '2024-12-31'"
      ],
      "metadata": {
        "id": "Buf_Bhb2mFbI"
      },
      "execution_count": null,
      "outputs": []
    },
    {
      "cell_type": "code",
      "source": [
        "!python data_parser.py --id2id --input_file Chicago_listings.csv --output_file res.json --selected_columns id last_review latitude longitude --geometry_file Chicago.shp --geometry_columns area_numbe"
      ],
      "metadata": {
        "colab": {
          "base_uri": "https://localhost:8080/"
        },
        "id": "bTqU6xanQeqo",
        "outputId": "40e904eb-4858-4223-8507-85404b6d6d4b"
      },
      "execution_count": null,
      "outputs": [
        {
          "output_type": "stream",
          "name": "stdout",
          "text": [
            "/content/data_parser.py:37: SettingWithCopyWarning: \n",
            "A value is trying to be set on a copy of a slice from a DataFrame\n",
            "\n",
            "See the caveats in the documentation: https://pandas.pydata.org/pandas-docs/stable/user_guide/indexing.html#returning-a-view-versus-a-copy\n",
            "  df_s.dropna(inplace=True)\n",
            "/content/data_parser.py:40: SettingWithCopyWarning: \n",
            "A value is trying to be set on a copy of a slice from a DataFrame\n",
            "\n",
            "See the caveats in the documentation: https://pandas.pydata.org/pandas-docs/stable/user_guide/indexing.html#returning-a-view-versus-a-copy\n",
            "  df_s.dropna(inplace=True)\n",
            "/content/data_parser.py:45: SettingWithCopyWarning: \n",
            "A value is trying to be set on a copy of a slice from a DataFrame.\n",
            "Try using .loc[row_indexer,col_indexer] = value instead\n",
            "\n",
            "See the caveats in the documentation: https://pandas.pydata.org/pandas-docs/stable/user_guide/indexing.html#returning-a-view-versus-a-copy\n",
            "  df_s[Time_name] = pd.to_datetime(df_s[Time_name], errors='coerce')\n",
            "                       id last_review   latitude  longitude\n",
            "0                    2384  2024-06-08  41.787900 -87.587800\n",
            "1                    7126  2024-06-01  41.901660 -87.680210\n",
            "2                   10945  2024-06-16  41.911960 -87.639810\n",
            "3                   12140  2024-05-27  41.923570 -87.649470\n",
            "4                   28749  2024-06-18  41.921370 -87.679330\n",
            "...                   ...         ...        ...        ...\n",
            "6498  1172524096585357952  2024-06-17  41.873452 -87.711368\n",
            "6499  1172609190816850032  2024-06-14  41.949340 -87.658180\n",
            "6500  1173542396433869048  2024-06-20  41.848310 -87.734190\n",
            "6501  1173682747622945664  2024-06-16  41.897382 -87.638228\n",
            "6502  1177841736211622759  2024-06-16  41.948410 -87.654310\n",
            "\n",
            "[6503 rows x 4 columns]\n"
          ]
        }
      ]
    },
    {
      "cell_type": "markdown",
      "source": [
        "## 参数读取设计"
      ],
      "metadata": {
        "id": "tWfF2B-ASRF_"
      }
    },
    {
      "cell_type": "markdown",
      "source": [
        "### 读取对应数据"
      ],
      "metadata": {
        "id": "lAJOkg7wPTY6"
      }
    },
    {
      "cell_type": "code",
      "execution_count": null,
      "metadata": {
        "id": "oBgXg3AA6weZ",
        "collapsed": true,
        "colab": {
          "base_uri": "https://localhost:8080/"
        },
        "outputId": "40856e3b-2f6a-466c-fb92-dca1366450ff"
      },
      "outputs": [
        {
          "output_type": "stream",
          "name": "stdout",
          "text": [
            "       ARREST_KEY ARREST_DATE   Latitude  Longitude\n",
            "0       280255493  01/10/2024  40.814845 -73.956312\n",
            "1       279805419  01/02/2024  40.674496 -73.930571\n",
            "2       279895750  01/03/2024  40.662526 -73.846499\n",
            "3       280809090  01/19/2024  40.855793 -73.843908\n",
            "4       280357135  01/11/2024  40.694456 -73.934343\n",
            "...           ...         ...        ...        ...\n",
            "63616   282877412  02/27/2024  40.576100 -73.989545\n",
            "63617   283628088  03/12/2024  40.740151 -73.994805\n",
            "63618   283387006  03/07/2024  40.671104 -73.913562\n",
            "63619   283013910  03/01/2024  40.698894 -73.917522\n",
            "63620   283495531  03/10/2024  40.531707 -74.192126\n",
            "\n",
            "[63621 rows x 4 columns]\n"
          ]
        },
        {
          "output_type": "stream",
          "name": "stderr",
          "text": [
            "<ipython-input-44-b172cb83cb5e>:9: SettingWithCopyWarning: \n",
            "A value is trying to be set on a copy of a slice from a DataFrame\n",
            "\n",
            "See the caveats in the documentation: https://pandas.pydata.org/pandas-docs/stable/user_guide/indexing.html#returning-a-view-versus-a-copy\n",
            "  df_s.dropna(inplace=True)\n",
            "<ipython-input-44-b172cb83cb5e>:10: SettingWithCopyWarning: \n",
            "A value is trying to be set on a copy of a slice from a DataFrame.\n",
            "Try using .loc[row_indexer,col_indexer] = value instead\n",
            "\n",
            "See the caveats in the documentation: https://pandas.pydata.org/pandas-docs/stable/user_guide/indexing.html#returning-a-view-versus-a-copy\n",
            "  df_s['Latitude'] = pd.to_numeric(df_s['Latitude'], errors='coerce')\n",
            "<ipython-input-44-b172cb83cb5e>:11: SettingWithCopyWarning: \n",
            "A value is trying to be set on a copy of a slice from a DataFrame.\n",
            "Try using .loc[row_indexer,col_indexer] = value instead\n",
            "\n",
            "See the caveats in the documentation: https://pandas.pydata.org/pandas-docs/stable/user_guide/indexing.html#returning-a-view-versus-a-copy\n",
            "  df_s['Longitude'] = pd.to_numeric(df_s['Longitude'], errors='coerce')\n",
            "<ipython-input-44-b172cb83cb5e>:12: SettingWithCopyWarning: \n",
            "A value is trying to be set on a copy of a slice from a DataFrame\n",
            "\n",
            "See the caveats in the documentation: https://pandas.pydata.org/pandas-docs/stable/user_guide/indexing.html#returning-a-view-versus-a-copy\n",
            "  df_s.dropna(inplace=True)\n"
          ]
        }
      ],
      "source": [
        "import requests\n",
        "import pandas as pd\n",
        "\n",
        "# 将CSV数据转换为Pandas DataFrame\n",
        "data = pd.read_csv(csv_name, on_bad_lines='skip')\n",
        "df = pd.DataFrame(data)\n",
        "# 筛选\n",
        "df_s = df[selected_columns]\n",
        "df_s.dropna(inplace=True)\n",
        "df_s['Latitude'] = pd.to_numeric(df_s['Latitude'], errors='coerce')\n",
        "df_s['Longitude'] = pd.to_numeric(df_s['Longitude'], errors='coerce')\n",
        "df_s.dropna(inplace=True)\n",
        "# 重置索引\n",
        "df_s.reset_index(drop=True, inplace=True)\n",
        "\n",
        "print(df_s)"
      ]
    },
    {
      "cell_type": "code",
      "source": [
        "df_s['Latitude'] = df_s['latitude']\n",
        "df_s['Longitude'] = df_s['longitude']\n",
        "print(df_s)"
      ],
      "metadata": {
        "colab": {
          "base_uri": "https://localhost:8080/"
        },
        "id": "8GBw92bZmxDc",
        "outputId": "25003232-d76e-4d40-d9f7-b50581d38cf1"
      },
      "execution_count": null,
      "outputs": [
        {
          "output_type": "stream",
          "name": "stdout",
          "text": [
            "                       id  price   latitude  longitude   Latitude  Longitude\n",
            "0                    2384   86.0  41.787900 -87.587800  41.787900 -87.587800\n",
            "1                    7126   90.0  41.901660 -87.680210  41.901660 -87.680210\n",
            "2                   10945  114.0  41.911960 -87.639810  41.911960 -87.639810\n",
            "3                   12140  329.0  41.923570 -87.649470  41.923570 -87.649470\n",
            "4                   24833   57.0  41.925961 -87.656364  41.925961 -87.656364\n",
            "...                   ...    ...        ...        ...        ...        ...\n",
            "7517  1116851419125146887   56.0  41.795290 -87.581940  41.795290 -87.581940\n",
            "7518  1117394712148132475  123.0  41.914243 -87.706237  41.914243 -87.706237\n",
            "7519  1117438873812832956  122.0  41.892341 -87.622273  41.892341 -87.622273\n",
            "7520  1117439997700638787  132.0  41.894067 -87.621591  41.894067 -87.621591\n",
            "7521  1117896281364781567  106.0  41.958120 -87.753190  41.958120 -87.753190\n",
            "\n",
            "[7522 rows x 6 columns]\n"
          ]
        },
        {
          "output_type": "stream",
          "name": "stderr",
          "text": [
            "<ipython-input-46-3fd0cb9c236b>:1: SettingWithCopyWarning: \n",
            "A value is trying to be set on a copy of a slice from a DataFrame.\n",
            "Try using .loc[row_indexer,col_indexer] = value instead\n",
            "\n",
            "See the caveats in the documentation: https://pandas.pydata.org/pandas-docs/stable/user_guide/indexing.html#returning-a-view-versus-a-copy\n",
            "  df_s['Latitude'] = df_s['latitude']\n",
            "<ipython-input-46-3fd0cb9c236b>:2: SettingWithCopyWarning: \n",
            "A value is trying to be set on a copy of a slice from a DataFrame.\n",
            "Try using .loc[row_indexer,col_indexer] = value instead\n",
            "\n",
            "See the caveats in the documentation: https://pandas.pydata.org/pandas-docs/stable/user_guide/indexing.html#returning-a-view-versus-a-copy\n",
            "  df_s['Longitude'] = df_s['longitude']\n"
          ]
        }
      ]
    },
    {
      "cell_type": "markdown",
      "source": [
        "### 转换datetime格式"
      ],
      "metadata": {
        "id": "6sKFzqiWPbmR"
      }
    },
    {
      "cell_type": "code",
      "source": [
        "# 尝试将ARREST_DATE列转换为datetime格式，使用errors='coerce'参数将错误数据转换为NaT\n",
        "df_s['ARREST_DATE'] = pd.to_datetime(df_s['ARREST_DATE'], errors='coerce')\n",
        "# df_s = df_s.dropna(subset=['TAXYEAR'])\n",
        "df_s['date'] = df_s['ARREST_DATE'].dt.date\n",
        "grouped = df_s.groupby('date')\n",
        "daily_polygon_count = {}\n",
        "for date, group in grouped:\n",
        "  daily_polygon_count[str(date)] = 1\n",
        "print(daily_polygon_count)"
      ],
      "metadata": {
        "colab": {
          "base_uri": "https://localhost:8080/"
        },
        "id": "_sgLZ9es0Uu_",
        "outputId": "156214c2-e943-4ec8-d505-494ea5ec8906"
      },
      "execution_count": null,
      "outputs": [
        {
          "output_type": "stream",
          "name": "stdout",
          "text": [
            "{'2024-01-01': 1, '2024-01-02': 1, '2024-01-03': 1, '2024-01-04': 1, '2024-01-05': 1, '2024-01-06': 1, '2024-01-07': 1, '2024-01-08': 1, '2024-01-09': 1, '2024-01-10': 1, '2024-01-11': 1, '2024-01-12': 1, '2024-01-13': 1, '2024-01-14': 1, '2024-01-15': 1, '2024-01-16': 1, '2024-01-17': 1, '2024-01-18': 1, '2024-01-19': 1, '2024-01-20': 1, '2024-01-21': 1, '2024-01-22': 1, '2024-01-23': 1, '2024-01-24': 1, '2024-01-25': 1, '2024-01-26': 1, '2024-01-27': 1, '2024-01-28': 1, '2024-01-29': 1, '2024-01-30': 1, '2024-01-31': 1, '2024-02-01': 1, '2024-02-02': 1, '2024-02-03': 1, '2024-02-04': 1, '2024-02-05': 1, '2024-02-06': 1, '2024-02-07': 1, '2024-02-08': 1, '2024-02-09': 1, '2024-02-10': 1, '2024-02-11': 1, '2024-02-12': 1, '2024-02-13': 1, '2024-02-14': 1, '2024-02-15': 1, '2024-02-16': 1, '2024-02-17': 1, '2024-02-18': 1, '2024-02-19': 1, '2024-02-20': 1, '2024-02-21': 1, '2024-02-22': 1, '2024-02-23': 1, '2024-02-24': 1, '2024-02-25': 1, '2024-02-26': 1, '2024-02-27': 1, '2024-02-28': 1, '2024-02-29': 1, '2024-03-01': 1, '2024-03-02': 1, '2024-03-03': 1, '2024-03-04': 1, '2024-03-05': 1, '2024-03-06': 1, '2024-03-07': 1, '2024-03-08': 1, '2024-03-09': 1, '2024-03-10': 1, '2024-03-11': 1, '2024-03-12': 1, '2024-03-13': 1, '2024-03-14': 1, '2024-03-15': 1, '2024-03-16': 1, '2024-03-17': 1, '2024-03-18': 1, '2024-03-19': 1, '2024-03-20': 1, '2024-03-21': 1, '2024-03-22': 1, '2024-03-23': 1, '2024-03-24': 1, '2024-03-25': 1, '2024-03-26': 1, '2024-03-27': 1, '2024-03-28': 1, '2024-03-29': 1, '2024-03-30': 1, '2024-03-31': 1}\n"
          ]
        },
        {
          "output_type": "stream",
          "name": "stderr",
          "text": [
            "<ipython-input-35-b082a9d9a07f>:2: SettingWithCopyWarning: \n",
            "A value is trying to be set on a copy of a slice from a DataFrame.\n",
            "Try using .loc[row_indexer,col_indexer] = value instead\n",
            "\n",
            "See the caveats in the documentation: https://pandas.pydata.org/pandas-docs/stable/user_guide/indexing.html#returning-a-view-versus-a-copy\n",
            "  df_s['ARREST_DATE'] = pd.to_datetime(df_s['ARREST_DATE'], errors='coerce')\n",
            "<ipython-input-35-b082a9d9a07f>:4: SettingWithCopyWarning: \n",
            "A value is trying to be set on a copy of a slice from a DataFrame.\n",
            "Try using .loc[row_indexer,col_indexer] = value instead\n",
            "\n",
            "See the caveats in the documentation: https://pandas.pydata.org/pandas-docs/stable/user_guide/indexing.html#returning-a-view-versus-a-copy\n",
            "  df_s['date'] = df_s['ARREST_DATE'].dt.date\n"
          ]
        }
      ]
    },
    {
      "cell_type": "markdown",
      "source": [
        "## 读取Taxi Zone数据"
      ],
      "metadata": {
        "id": "CWK7a8VlGvMO"
      }
    },
    {
      "cell_type": "code",
      "source": [
        "zone_name = \"Chicago.shp\""
      ],
      "metadata": {
        "id": "IDhmnQB4cIdg"
      },
      "execution_count": null,
      "outputs": []
    },
    {
      "cell_type": "code",
      "source": [
        "import geopandas as gpd\n",
        "import matplotlib.pyplot as plt\n",
        "# 读取Shapefile\n",
        "gdf = gpd.read_file(zone_name)\n",
        "# gdf['objectid'] = gdf['objectid'].astype(int)\n",
        "# 显示所有列名\n",
        "print(gdf.columns)\n",
        "# 显示数据的总体信息\n",
        "print(gdf.info())\n",
        "# print(gdf.area_numbe.to_string())\n",
        "# borough_name = 'Manhattan'\n",
        "# gdf= gdf[gdf['borough'] == borough_name]\n",
        "gdf.plot()\n",
        "plt.show()"
      ],
      "metadata": {
        "colab": {
          "base_uri": "https://localhost:8080/",
          "height": 794
        },
        "id": "4HiGtJmrW9JR",
        "outputId": "753139a5-500d-4322-9d10-4da6734e02b2",
        "collapsed": true
      },
      "execution_count": null,
      "outputs": [
        {
          "output_type": "stream",
          "name": "stdout",
          "text": [
            "Index(['area', 'area_num_1', 'area_numbe', 'comarea', 'comarea_id',\n",
            "       'community', 'perimeter', 'shape_area', 'shape_len', 'geometry'],\n",
            "      dtype='object')\n",
            "<class 'geopandas.geodataframe.GeoDataFrame'>\n",
            "RangeIndex: 77 entries, 0 to 76\n",
            "Data columns (total 10 columns):\n",
            " #   Column      Non-Null Count  Dtype   \n",
            "---  ------      --------------  -----   \n",
            " 0   area        77 non-null     float64 \n",
            " 1   area_num_1  77 non-null     object  \n",
            " 2   area_numbe  77 non-null     object  \n",
            " 3   comarea     77 non-null     float64 \n",
            " 4   comarea_id  77 non-null     float64 \n",
            " 5   community   77 non-null     object  \n",
            " 6   perimeter   77 non-null     float64 \n",
            " 7   shape_area  77 non-null     float64 \n",
            " 8   shape_len   77 non-null     float64 \n",
            " 9   geometry    77 non-null     geometry\n",
            "dtypes: float64(6), geometry(1), object(3)\n",
            "memory usage: 6.1+ KB\n",
            "None\n"
          ]
        },
        {
          "output_type": "display_data",
          "data": {
            "text/plain": [
              "<Figure size 640x480 with 1 Axes>"
            ],
            "image/png": "[encoded data removed]"
          },
          "metadata": {}
        }
      ]
    },
    {
      "cell_type": "markdown",
      "source": [
        "## 筛选时间"
      ],
      "metadata": {
        "id": "eLF-Gt9EG9gj"
      }
    },
    {
      "cell_type": "code",
      "source": [
        "start_date = '2024-01-01'\n",
        "end_date = '2024-12-31'\n",
        "filter_year = 2024"
      ],
      "metadata": {
        "id": "oAxzzpHG_aej"
      },
      "execution_count": null,
      "outputs": []
    },
    {
      "cell_type": "code",
      "source": [
        "filtered_df = df_s[(df_s['Date'] >= start_date) & (df_s['Date'] <= end_date)]\n",
        "print(filtered_df)"
      ],
      "metadata": {
        "id": "W4494gwPPxCh",
        "colab": {
          "base_uri": "https://localhost:8080/"
        },
        "outputId": "a61f8a19-2271-4033-f88b-24ab718ef113"
      },
      "execution_count": null,
      "outputs": [
        {
          "output_type": "stream",
          "name": "stdout",
          "text": [
            "Empty DataFrame\n",
            "Columns: [ID, Date, Latitude, Longitude]\n",
            "Index: []\n"
          ]
        }
      ]
    },
    {
      "cell_type": "code",
      "source": [
        "filtered_df = df_s"
      ],
      "metadata": {
        "id": "JLf_AvMVhBVO"
      },
      "execution_count": null,
      "outputs": []
    },
    {
      "cell_type": "code",
      "source": [
        "filtered_df = df_s[(df_s['TAXYEAR'] == filter_year)]\n",
        "print(filtered_df)"
      ],
      "metadata": {
        "colab": {
          "base_uri": "https://localhost:8080/"
        },
        "id": "z_rRsg-WPkN_",
        "outputId": "6093f526-1324-4e74-fb2d-a09644c32616"
      },
      "execution_count": null,
      "outputs": [
        {
          "output_type": "stream",
          "name": "stdout",
          "text": [
            "            PARID  TAXYEAR   Latitude  Longitude\n",
            "8294   1000020002     2024  40.701429 -74.011552\n",
            "8295   1000080039     2024  40.703235 -74.012421\n",
            "8296   1000080051     2024  40.702744 -74.012201\n",
            "8297   1000100033     2024  40.704025 -74.012638\n",
            "8298   1000110029     2024  40.704039 -74.012317\n",
            "...           ...      ...        ...        ...\n",
            "11118  5032240019     2024  40.597368 -74.084913\n",
            "11119  5066680094     2024  40.515283 -74.194552\n",
            "11120  5070670090     2024  40.553824 -74.216904\n",
            "11121  5073650001     2024  40.533481 -74.224756\n",
            "11122  5075840099     2024  40.525055 -74.237788\n",
            "\n",
            "[2829 rows x 4 columns]\n"
          ]
        }
      ]
    },
    {
      "cell_type": "markdown",
      "source": [
        "## 将每个点对应到具体的Zone"
      ],
      "metadata": {
        "id": "R1EjFtjIHDX5"
      }
    },
    {
      "cell_type": "markdown",
      "source": [
        "### 统计数量"
      ],
      "metadata": {
        "id": "JaKUOxE7pqkc"
      }
    },
    {
      "cell_type": "code",
      "source": [
        "Id_name_One = \"area_numbe\"\n",
        "Id_name_Two = \"region_id\"\n",
        "\n",
        "Id_name = Id_name_Two"
      ],
      "metadata": {
        "id": "sY3VwjMbniyW"
      },
      "execution_count": null,
      "outputs": []
    },
    {
      "cell_type": "code",
      "source": [
        "from shapely.geometry import Point\n",
        "import json\n",
        "polygon_count = {idx: 0 for idx in gdf[Id_name]}\n",
        "geometries = gdf[[Id_name, 'geometry',]]\n",
        "\n",
        "for idx, row in filtered_df.iterrows():\n",
        "    target_point = Point(row['Longitude'], row['Latitude'])\n",
        "\n",
        "    contained_polygons = gdf[gdf.contains(target_point)]\n",
        "    if not contained_polygons.empty:\n",
        "        for poly_id in contained_polygons[Id_name]:\n",
        "          polygon_count[poly_id] += 1\n",
        "\n",
        "\n",
        "output_json = json.dumps(polygon_count, ensure_ascii=False, indent=4)\n",
        "print(output_json)"
      ],
      "metadata": {
        "colab": {
          "base_uri": "https://localhost:8080/"
        },
        "id": "lEP2uGZL4MAW",
        "outputId": "654e86d2-c8f8-4fc6-945f-6b8c82a0ab78",
        "collapsed": true
      },
      "execution_count": null,
      "outputs": [
        {
          "output_type": "stream",
          "name": "stdout",
          "text": [
            "{\n",
            "    \"0\": 48,\n",
            "    \"1\": 3,\n",
            "    \"2\": 3,\n",
            "    \"3\": 0,\n",
            "    \"4\": 0,\n",
            "    \"5\": 0,\n",
            "    \"6\": 9,\n",
            "    \"7\": 165,\n",
            "    \"8\": 9,\n",
            "    \"9\": 0,\n",
            "    \"10\": 0,\n",
            "    \"11\": 1,\n",
            "    \"12\": 14,\n",
            "    \"13\": 0,\n",
            "    \"14\": 1,\n",
            "    \"15\": 0,\n",
            "    \"16\": 7,\n",
            "    \"17\": 0,\n",
            "    \"18\": 0,\n",
            "    \"19\": 4,\n",
            "    \"20\": 0,\n",
            "    \"21\": 0,\n",
            "    \"22\": 9,\n",
            "    \"23\": 2,\n",
            "    \"24\": 3,\n",
            "    \"25\": 0,\n",
            "    \"26\": 2,\n",
            "    \"27\": 1,\n",
            "    \"28\": 4,\n",
            "    \"29\": 0,\n",
            "    \"30\": 0,\n",
            "    \"31\": 0,\n",
            "    \"32\": 108,\n",
            "    \"33\": 8,\n",
            "    \"34\": 160,\n",
            "    \"35\": 28,\n",
            "    \"36\": 0,\n",
            "    \"37\": 0,\n",
            "    \"38\": 1,\n",
            "    \"39\": 2,\n",
            "    \"40\": 0,\n",
            "    \"41\": 0,\n",
            "    \"42\": 0,\n",
            "    \"43\": 0,\n",
            "    \"44\": 7,\n",
            "    \"45\": 0,\n",
            "    \"46\": 0,\n",
            "    \"47\": 8,\n",
            "    \"48\": 4,\n",
            "    \"49\": 12,\n",
            "    \"50\": 0,\n",
            "    \"51\": 23,\n",
            "    \"52\": 2,\n",
            "    \"53\": 0,\n",
            "    \"54\": 0,\n",
            "    \"55\": 0,\n",
            "    \"56\": 2,\n",
            "    \"57\": 2,\n",
            "    \"58\": 7,\n",
            "    \"59\": 10,\n",
            "    \"60\": 0,\n",
            "    \"61\": 0,\n",
            "    \"62\": 32,\n",
            "    \"63\": 38,\n",
            "    \"64\": 1,\n",
            "    \"65\": 6,\n",
            "    \"66\": 0,\n",
            "    \"67\": 6,\n",
            "    \"68\": 8,\n",
            "    \"69\": 0,\n",
            "    \"70\": 5,\n",
            "    \"71\": 1,\n",
            "    \"72\": 3,\n",
            "    \"73\": 0,\n",
            "    \"74\": 3,\n",
            "    \"75\": 23,\n",
            "    \"76\": 2,\n",
            "    \"77\": 15,\n",
            "    \"78\": 6,\n",
            "    \"79\": 6,\n",
            "    \"80\": 2,\n",
            "    \"81\": 4,\n",
            "    \"82\": 0,\n",
            "    \"83\": 2,\n",
            "    \"84\": 3,\n",
            "    \"85\": 7,\n",
            "    \"86\": 0,\n",
            "    \"87\": 0,\n",
            "    \"88\": 1,\n",
            "    \"89\": 4,\n",
            "    \"90\": 4,\n",
            "    \"91\": 19,\n",
            "    \"92\": 5,\n",
            "    \"93\": 13,\n",
            "    \"94\": 0,\n",
            "    \"95\": 175,\n",
            "    \"96\": 4,\n",
            "    \"97\": 1,\n",
            "    \"98\": 0,\n",
            "    \"99\": 10,\n",
            "    \"100\": 6,\n",
            "    \"101\": 1,\n",
            "    \"102\": 0,\n",
            "    \"103\": 0,\n",
            "    \"104\": 16,\n",
            "    \"105\": 0,\n",
            "    \"106\": 0,\n",
            "    \"107\": 0,\n",
            "    \"108\": 4,\n",
            "    \"109\": 0,\n",
            "    \"110\": 51,\n",
            "    \"111\": 12,\n",
            "    \"112\": 0,\n",
            "    \"113\": 396,\n",
            "    \"114\": 0,\n",
            "    \"115\": 13,\n",
            "    \"116\": 0,\n",
            "    \"117\": 0,\n",
            "    \"118\": 21,\n",
            "    \"119\": 1,\n",
            "    \"120\": 29,\n",
            "    \"121\": 0,\n",
            "    \"122\": 310,\n",
            "    \"123\": 9,\n",
            "    \"124\": 0,\n",
            "    \"125\": 1,\n",
            "    \"126\": 0,\n",
            "    \"127\": 9,\n",
            "    \"128\": 0,\n",
            "    \"129\": 2,\n",
            "    \"130\": 0,\n",
            "    \"131\": 0,\n",
            "    \"132\": 1,\n",
            "    \"133\": 0,\n",
            "    \"134\": 7,\n",
            "    \"135\": 0,\n",
            "    \"136\": 0,\n",
            "    \"137\": 0,\n",
            "    \"138\": 1,\n",
            "    \"139\": 1,\n",
            "    \"140\": 1,\n",
            "    \"141\": 0,\n",
            "    \"142\": 1,\n",
            "    \"143\": 4,\n",
            "    \"144\": 3,\n",
            "    \"145\": 3,\n",
            "    \"146\": 1,\n",
            "    \"147\": 0,\n",
            "    \"148\": 2,\n",
            "    \"149\": 1,\n",
            "    \"150\": 1,\n",
            "    \"151\": 0,\n",
            "    \"152\": 2,\n",
            "    \"153\": 0,\n",
            "    \"154\": 0,\n",
            "    \"155\": 3,\n",
            "    \"156\": 1,\n",
            "    \"157\": 48,\n",
            "    \"158\": 2,\n",
            "    \"159\": 0,\n",
            "    \"160\": 0,\n",
            "    \"161\": 0,\n",
            "    \"162\": 0,\n",
            "    \"163\": 0,\n",
            "    \"164\": 0,\n",
            "    \"165\": 11,\n",
            "    \"166\": 9,\n",
            "    \"167\": 0,\n",
            "    \"168\": 0,\n",
            "    \"169\": 1,\n",
            "    \"170\": 0,\n",
            "    \"171\": 0,\n",
            "    \"172\": 2,\n",
            "    \"173\": 1,\n",
            "    \"174\": 207,\n",
            "    \"175\": 1,\n",
            "    \"176\": 0,\n",
            "    \"177\": 5,\n",
            "    \"178\": 9,\n",
            "    \"179\": 19\n",
            "}\n"
          ]
        }
      ]
    },
    {
      "cell_type": "markdown",
      "source": [
        "### 统计价格"
      ],
      "metadata": {
        "id": "H2nFr_N9psyr"
      }
    },
    {
      "cell_type": "code",
      "source": [
        "from shapely.geometry import Point\n",
        "import json\n",
        "polygon_count = {idx: 0 for idx in gdf['area_numbe']}\n",
        "geometries = gdf[['area_numbe', 'geometry',]]\n",
        "\n",
        "for idx, row in filtered_df.iterrows():\n",
        "    target_point = Point(row['Longitude'], row['Latitude'])\n",
        "    contained_polygons = gdf[gdf.contains(target_point)]\n",
        "    if not contained_polygons.empty:\n",
        "        for poly_id in contained_polygons['area_numbe']:\n",
        "          polygon_count[poly_id] += row['price']\n",
        "\n",
        "\n",
        "output_price_json = json.dumps(polygon_count, ensure_ascii=False, indent=4)\n",
        "print(output_price_json)"
      ],
      "metadata": {
        "id": "-JF9sDlepwp8"
      },
      "execution_count": null,
      "outputs": []
    },
    {
      "cell_type": "markdown",
      "source": [
        "### 平均价格"
      ],
      "metadata": {
        "id": "aasAdCdIqzDB"
      }
    },
    {
      "cell_type": "code",
      "source": [
        "pricesum_file = \"Chicago_homestay_pricesum.json\"\n",
        "count_file = \"Chicago_homestay.json\"\n",
        "output_file = \"Chicago_homestary_aver.json\""
      ],
      "metadata": {
        "id": "DGEqDn0Kq1Fj"
      },
      "execution_count": null,
      "outputs": []
    },
    {
      "cell_type": "code",
      "source": [
        "import json\n",
        "\n",
        "# 读取价格JSON文件\n",
        "with open(pricesum_file) as f:\n",
        "    prices = json.load(f)\n",
        "\n",
        "# 读取数量JSON文件\n",
        "with open(count_file) as f:\n",
        "    quantities = json.load(f)\n",
        "\n",
        "# 初始化结果字典\n",
        "result = {}\n",
        "\n",
        "# 遍历价格字典，并计算价格除以数量\n",
        "for item in prices:\n",
        "    if item in quantities:\n",
        "        # 确保数量不为0，避免除零错误\n",
        "        if quantities[item] != 0:\n",
        "            result[item] = prices[item] / quantities[item]\n",
        "        else:\n",
        "            result[item] = None  # 或者根据需求处理除零情况\n",
        "\n",
        "# 打印结果字典，检查计算结果\n",
        "print(result)\n",
        "\n",
        "# 将结果保存到新的JSON文件\n",
        "with open(output_file, 'w') as json_file:\n",
        "    json.dump(result, json_file, indent=4)\n"
      ],
      "metadata": {
        "colab": {
          "base_uri": "https://localhost:8080/"
        },
        "id": "n82FO2yYq1Kg",
        "outputId": "045ccbbd-569b-4de2-ce79-b3c23a3cca4f"
      },
      "execution_count": null,
      "outputs": [
        {
          "output_type": "stream",
          "name": "stdout",
          "text": [
            "{'35': 163.3921568627451, '36': 218.85714285714286, '37': 104.0, '38': 146.98319327731093, '39': 122.06666666666666, '4': 113.93203883495146, '40': 127.22, '41': 122.06862745098039, '42': 105.3265306122449, '1': 123.87581699346406, '11': 114.10204081632654, '12': 118.125, '13': 123.15789473684211, '14': 118.58461538461539, '15': 117.98913043478261, '16': 118.48717948717949, '17': 373.1219512195122, '18': 96.71428571428571, '19': 144.64102564102564, '2': 115.07142857142857, '20': 146.24, '21': 126.41610738255034, '22': 159.78042959427208, '23': 137.8041237113402, '24': 231.9010989010989, '25': 160.53225806451613, '26': 104.44, '27': 91.42201834862385, '28': 161.4573055028463, '29': 106.20930232558139, '3': 135.39583333333334, '30': 99.17777777777778, '31': 122.16923076923077, '33': 194.882096069869, '34': 129.3896103896104, '10': 114.31372549019608, '8': 201.98341836734693, '32': 196.8617886178862, '43': 112.60526315789474, '44': 166.2, '45': 197.0, '46': 92.23333333333333, '47': 196.0, '59': 109.01724137931035, '6': 303.902394106814, '48': 147.0909090909091, '49': 139.0, '5': 186.75590551181102, '50': 103.47058823529412, '51': 119.71428571428571, '52': 77.92307692307692, '53': 82.5, '54': 77.0, '55': 96.16666666666667, '56': 163.44444444444446, '57': 98.8, '58': 87.9090909090909, '60': 109.1988950276243, '61': 44.431372549019606, '62': 83.0, '63': 86.4, '64': 307.8, '65': 89.8, '66': 100.5, '67': 73.15384615384616, '68': 63.08108108108108, '69': 134.6122448979592, '7': 210.5, '70': 142.2, '71': 135.47826086956522, '72': 135.94117647058823, '73': 136.25, '74': 653.0, '75': 124.58333333333333, '76': 133.125, '77': 132.6144578313253, '9': 106.5}\n"
          ]
        }
      ]
    },
    {
      "cell_type": "code",
      "source": [
        "gdf['shape_area_kqm'] = gdf['shape_area'] * 10**4\n",
        "polygon_density = {idx: count / (gdf.loc[gdf['objectid'] == idx, 'shape_area_kqm'].values[0] ) for idx, count in polygon_count.items()}\n",
        "\n",
        "# 转换为JSON格式\n",
        "output_dense_json = json.dumps(polygon_density, ensure_ascii=False, indent=4)\n"
      ],
      "metadata": {
        "id": "0XjdP2cFV9gi"
      },
      "execution_count": null,
      "outputs": []
    },
    {
      "cell_type": "markdown",
      "source": [
        "## 输出为json"
      ],
      "metadata": {
        "id": "WxtbG5x7HLgy"
      }
    },
    {
      "cell_type": "code",
      "source": [
        "with open('mh_hotel.json', 'w', encoding='utf-8') as f:\n",
        "    f.write(output_json)"
      ],
      "metadata": {
        "id": "QZixsWzSJBme"
      },
      "execution_count": null,
      "outputs": []
    },
    {
      "cell_type": "markdown",
      "source": [
        "## 读取npy文件"
      ],
      "metadata": {
        "id": "SnWk7DltXuu1"
      }
    },
    {
      "cell_type": "code",
      "source": [
        "import numpy as np\n",
        "\n",
        "# 读取.npy文件\n",
        "data = np.load('mob_label.npy')\n",
        "\n",
        "# 显示数据\n",
        "print(\"读取的数据:\")\n",
        "print(data)\n",
        "\n",
        "# 检查数据类型和形状\n",
        "print(f\"数据类型: {data.dtype}\")\n",
        "print(f\"数据形状: {data.shape}\")"
      ],
      "metadata": {
        "id": "srlO0QhNXCI2",
        "colab": {
          "base_uri": "https://localhost:8080/"
        },
        "outputId": "3f85ea9a-29a7-42e5-8933-93aa18a38862"
      },
      "execution_count": null,
      "outputs": [
        {
          "output_type": "stream",
          "name": "stdout",
          "text": [
            "读取的数据:\n",
            "[[7.400e+02 3.600e+01 5.440e+02 ... 1.780e+02 7.500e+01 4.990e+02]\n",
            " [6.000e+00 3.220e+02 7.000e+00 ... 7.000e+00 1.000e+00 2.400e+01]\n",
            " [4.320e+02 4.300e+01 1.656e+03 ... 4.620e+02 5.930e+02 6.230e+02]\n",
            " ...\n",
            " [1.260e+02 9.000e+00 3.220e+02 ... 4.360e+02 2.360e+02 1.220e+02]\n",
            " [4.700e+01 9.000e+00 3.230e+02 ... 1.150e+02 2.390e+02 7.300e+01]\n",
            " [7.230e+02 5.300e+01 7.460e+02 ... 1.550e+02 8.500e+01 6.530e+02]]\n",
            "数据类型: float64\n",
            "数据形状: (180, 180)\n"
          ]
        }
      ]
    },
    {
      "cell_type": "code",
      "source": [
        "import json\n",
        "\n",
        "# 读取JSON文件\n",
        "file_path = 'mh_cd.json'\n",
        "with open(file_path, 'r') as file:\n",
        "    data = json.load(file)\n",
        "\n",
        "# 显示数据\n",
        "print(data)\n",
        "\n",
        "# 检查数据类型\n",
        "print(f\"数据类型: {type(data)}\")"
      ],
      "metadata": {
        "colab": {
          "base_uri": "https://localhost:8080/"
        },
        "id": "SA5Jz6lHJ3qe",
        "outputId": "37edfc54-9f7a-4b3e-8367-8141f420d000"
      },
      "execution_count": null,
      "outputs": [
        {
          "output_type": "stream",
          "name": "stdout",
          "text": [
            "{'0': 2, '1': 8, '2': 5, '3': 10, '4': 7, '5': 12, '6': 6, '7': 6, '8': 3, '9': 0, '10': 4, '11': 9, '12': 2, '13': 8, '14': 7, '15': 7, '16': 10, '17': 4, '18': 5, '19': 5, '20': 11, '21': 12, '22': 0, '23': 11, '24': 9, '25': 9, '26': 6, '27': 10, '28': 4, '29': 10, '30': 8, '31': 7, '32': 12, '33': 6, '34': 2, '35': 0, '36': 10, '37': 9, '38': 12, '39': 10, '40': 7, '41': 12, '42': 4, '43': 7, '44': 5, '45': 6, '46': 6, '47': 2, '48': 3, '49': 4, '50': 8, '51': 3, '52': 11, '53': 11, '54': 8, '55': 10, '56': 9, '57': 12, '58': 8, '59': 0, '60': 7, '61': 7, '62': 2, '63': 2, '64': 12, '65': 2, '66': 10, '67': 4, '68': 6, '69': 7, '70': 4, '71': 0, '72': 5, '73': 7, '74': 6, '75': 0, '76': 6, '77': 6, '78': 0, '79': 5, '80': 7, '81': 6, '82': 1, '83': 8, '84': 11, '85': 3, '86': 12, '87': 7, '88': 12, '89': 9, '90': 3, '91': 2, '92': 0, '93': 5, '94': 7, '95': 0, '96': 10, '97': 0, '98': 4, '99': 3, '100': 5, '101': 10, '102': 8, '103': 7, '104': 8, '105': 4, '106': 7, '107': 12, '108': 2, '109': 11, '110': 2, '111': 4, '112': 4, '113': 5, '114': 12, '115': 5, '116': 11, '117': 7, '118': 9, '119': 11, '120': 2, '121': 10, '122': 2, '123': 0, '124': 8, '125': 10, '126': 11, '127': 10, '128': 8, '129': 3, '130': 12, '131': 11, '132': 10, '133': 4, '134': 10, '135': 9, '136': 9, '137': 11, '138': 10, '139': 10, '140': 10, '141': 7, '142': 10, '143': 6, '144': 9, '145': 6, '146': 4, '147': 8, '148': 3, '149': 8, '150': 0, '151': 12, '152': 4, '153': 5, '154': 10, '155': 9, '156': 4, '157': 2, '158': 5, '159': 7, '160': 12, '161': 7, '162': 10, '163': 7, '164': 12, '165': 2, '166': 9, '167': 11, '168': 4, '169': 10, '170': 4, '171': 10, '172': 9, '173': 9, '174': 9, '175': 8, '176': 7, '177': 3, '178': 4, '179': 2}\n",
            "数据类型: <class 'dict'>\n"
          ]
        }
      ]
    },
    {
      "cell_type": "markdown",
      "source": [
        "## 可视化数据"
      ],
      "metadata": {
        "id": "ztK1txAuKGLL"
      }
    },
    {
      "cell_type": "markdown",
      "source": [
        "### 柱状图"
      ],
      "metadata": {
        "id": "9x7bShxfXBXi"
      }
    },
    {
      "cell_type": "code",
      "source": [
        "file_name = \"mh_hotel.json\"\n",
        "axis_name = \"hotel\""
      ],
      "metadata": {
        "id": "TOry74hJXGsf"
      },
      "execution_count": null,
      "outputs": []
    },
    {
      "cell_type": "code",
      "source": [
        "import pandas as pd\n",
        "import matplotlib.pyplot as plt\n",
        "import json\n",
        "\n",
        "# 读取JSON文件\n",
        "with open(file_name) as f:\n",
        "    data = json.load(f)\n",
        "\n",
        "# 将JSON数据转换为DataFrame\n",
        "df = pd.DataFrame(list(data.items()), columns=['region_id', 'crime_count'])\n",
        "\n",
        "# 按照数量进行排序\n",
        "df_sorted = df.sort_values(by='crime_count', ascending=False)\n",
        "\n",
        "# 打印排序后的数据框\n",
        "print(df_sorted)\n",
        "\n",
        "# 设置图表大小\n",
        "plt.figure(figsize=(10, 6))\n",
        "\n",
        "# 只显示数量最高的前20个区域\n",
        "top_n = 40\n",
        "df_top_n = df_sorted.head(top_n)\n",
        "\n",
        "# 绘制条形图\n",
        "plt.bar(df_top_n['region_id'], df_top_n['crime_count'], color='skyblue')\n",
        "\n",
        "# 设置图表标题和标签\n",
        "plt.title('Top 40 Regions by '+axis_name+ ' Count')\n",
        "plt.xlabel('Region ID')\n",
        "plt.ylabel(axis_name+' Count')\n",
        "\n",
        "# 旋转x轴标签以便更好地显示\n",
        "plt.xticks(rotation=45)\n",
        "\n",
        "# 显示图表\n",
        "plt.show()\n"
      ],
      "metadata": {
        "colab": {
          "base_uri": "https://localhost:8080/",
          "height": 822
        },
        "id": "SD_JCHJeKHhf",
        "outputId": "1837ef70-30fa-44aa-d274-3fbed92c216a"
      },
      "execution_count": null,
      "outputs": [
        {
          "output_type": "stream",
          "name": "stdout",
          "text": [
            "    region_id  crime_count\n",
            "113       113          396\n",
            "122       122          310\n",
            "174       174          207\n",
            "95         95          175\n",
            "7           7          165\n",
            "..        ...          ...\n",
            "31         31            0\n",
            "114       114            0\n",
            "18         18            0\n",
            "112       112            0\n",
            "130       130            0\n",
            "\n",
            "[180 rows x 2 columns]\n"
          ]
        },
        {
          "output_type": "display_data",
          "data": {
            "text/plain": [
              "<Figure size 1000x600 with 1 Axes>"
            ],
            "image/png": "[encoded data removed]"
          },
          "metadata": {}
        }
      ]
    },
    {
      "cell_type": "markdown",
      "source": [
        "### 散点图"
      ],
      "metadata": {
        "id": "nrX50pXzX1IO"
      }
    },
    {
      "cell_type": "code",
      "source": [
        "file_one = \"mh_hotel.json\"\n",
        "file_two = \"mh_crime.json\""
      ],
      "metadata": {
        "id": "IOYchdZKV1t8"
      },
      "execution_count": null,
      "outputs": []
    },
    {
      "cell_type": "code",
      "source": [
        "import pandas as pd\n",
        "import matplotlib.pyplot as plt\n",
        "import json\n",
        "\n",
        "# 读取酒店数量JSON文件\n",
        "with open(file_one) as f:\n",
        "    hotel_data = json.load(f)\n",
        "\n",
        "# 读取犯罪数量JSON文件\n",
        "with open(file_two) as f:\n",
        "    taxi_data = json.load(f)\n",
        "\n",
        "# 将JSON数据转换为DataFrame\n",
        "hotel_df = pd.DataFrame(list(hotel_data.items()), columns=['region_id', 'hotel_count'])\n",
        "taxi_df = pd.DataFrame(list(taxi_data.items()), columns=['region_id', 'crime_count'])\n",
        "\n",
        "# 合并两个DataFrame\n",
        "merged_df = pd.merge(hotel_df, taxi_df, on='region_id')\n",
        "\n",
        "# 打印合并后的数据框，检查数据是否正确\n",
        "print(merged_df)\n",
        "\n",
        "# 设置图表大小\n",
        "plt.figure(figsize=(10, 6))\n",
        "\n",
        "# 绘制散点图\n",
        "plt.scatter(merged_df['hotel_count'], merged_df['crime_count'], color='blue')\n",
        "\n",
        "# 设置图表标题和标签\n",
        "plt.title('Relationship between Hotel and Crime Count')\n",
        "plt.xlabel('Hotel Count')\n",
        "plt.ylabel('Crime Count')\n",
        "\n",
        "# 显示图表\n",
        "plt.show()\n"
      ],
      "metadata": {
        "colab": {
          "base_uri": "https://localhost:8080/",
          "height": 807
        },
        "id": "9gUBiY3FKLov",
        "outputId": "cbde0a49-02d3-4e4c-e183-53328cbe95ac"
      },
      "execution_count": null,
      "outputs": [
        {
          "output_type": "stream",
          "name": "stdout",
          "text": [
            "    region_id  hotel_count  crime_count\n",
            "0           0           48           30\n",
            "1           1            3          101\n",
            "2           2            3           85\n",
            "3           3            0           28\n",
            "4           4            0           49\n",
            "..        ...          ...          ...\n",
            "175       175            1           23\n",
            "176       176            0           30\n",
            "177       177            5           32\n",
            "178       178            9          116\n",
            "179       179           19           29\n",
            "\n",
            "[180 rows x 3 columns]\n"
          ]
        },
        {
          "output_type": "display_data",
          "data": {
            "text/plain": [
              "<Figure size 1000x600 with 1 Axes>"
            ],
            "image/png": "[encoded data removed]"
          },
          "metadata": {}
        }
      ]
    },
    {
      "cell_type": "markdown",
      "source": [
        "## 出租车旅程数据"
      ],
      "metadata": {
        "id": "BPJ-8JvfUG5b"
      }
    },
    {
      "cell_type": "code",
      "source": [
        "import pandas as pd\n",
        "import requests\n",
        "import json\n",
        "import io\n",
        "\n",
        "# 基础URL\n",
        "base_url = \"https://data.cityofnewyork.us/resource/qp3b-zxtp.csv\"\n",
        "limit = 10000\n",
        "\n",
        "# 初始化字典，用于存储LocationID的计数\n",
        "location_counts = {}\n",
        "\n",
        "# 从offset=0开始，获取100批数据\n",
        "for offset in range(0, 500):\n",
        "    url = f\"{base_url}?$limit={limit}&$offset={offset * limit}\"\n",
        "    response = requests.get(url)\n",
        "\n",
        "    # 如果请求成功，将数据处理\n",
        "    if response.status_code == 200:\n",
        "        data = response.content.decode('utf-8')\n",
        "        df = pd.read_csv(io.StringIO(data))\n",
        "        # 更新字典中的LocationID计数\n",
        "        if 'pulocationid' in df.columns and 'dolocationid' in df.columns:\n",
        "\n",
        "            # for location_id in df['pulocationid']:\n",
        "            #     if location_id in location_counts:\n",
        "            #         location_counts[location_id] += 1\n",
        "            #     else:\n",
        "            #         location_counts[location_id] = 1\n",
        "\n",
        "            for location_id in df['dolocationid']:\n",
        "                if location_id in location_counts:\n",
        "                    location_counts[location_id] += 1\n",
        "                else:\n",
        "                    location_counts[location_id] = 1\n",
        "    else:\n",
        "        print(f\"Failed to retrieve data for offset {offset * limit}\")\n",
        "\n",
        "# 打印字典以检查结果\n",
        "print(location_counts)\n",
        "\n",
        "# 将结果保存到本地JSON文件\n",
        "with open('Taxi_2022_yellow.json', 'w') as json_file:\n",
        "    json.dump(location_counts, json_file)\n"
      ],
      "metadata": {
        "colab": {
          "base_uri": "https://localhost:8080/"
        },
        "id": "YxFoR8q4UHNg",
        "outputId": "e0596c7c-227a-4f76-ba50-1541e034f7fe"
      },
      "execution_count": null,
      "outputs": [
        {
          "output_type": "stream",
          "name": "stdout",
          "text": [
            "{236: 244813, 42: 23760, 166: 40066, 68: 118793, 163: 113322, 161: 161563, 87: 30436, 152: 9016, 141: 153246, 229: 114886, 90: 73423, 113: 62939, 79: 111808, 140: 115247, 151: 53523, 107: 106686, 7: 16819, 263: 119498, 43: 63587, 24: 20586, 233: 76164, 238: 130796, 48: 138928, 237: 215955, 249: 88097, 186: 103922, 92: 2350, 262: 86059, 170: 150534, 74: 40218, 10: 3580, 112: 9914, 4: 21914, 45: 11822, 148: 47318, 47: 572, 142: 142752, 137: 76454, 261: 17996, 246: 80474, 41: 36434, 36: 3132, 239: 150488, 168: 3418, 243: 9618, 61: 7127, 153: 239, 231: 70489, 139: 803, 265: 14069, 114: 48649, 97: 6078, 255: 11002, 211: 40871, 164: 91221, 180: 490, 144: 41505, 256: 10650, 13: 31004, 134: 1484, 143: 85598, 196: 1696, 125: 21101, 50: 57426, 162: 120597, 234: 115893, 65: 5838, 181: 11131, 83: 1235, 40: 3961, 193: 4854, 130: 2139, 226: 10657, 202: 2475, 56: 1416, 70: 2166, 80: 5965, 17: 6029, 85: 798, 223: 7826, 241: 881, 224: 21569, 179: 5897, 18: 864, 244: 17914, 157: 1570, 189: 3865, 129: 7847, 33: 12044, 106: 1626, 158: 46007, 232: 24297, 220: 1879, 116: 14910, 82: 3216, 25: 7092, 197: 1747, 169: 921, 72: 1090, 88: 13577, 35: 947, 49: 6634, 75: 73831, 177: 1128, 160: 1515, 225: 4208, 213: 997, 127: 3735, 264: 38099, 146: 4775, 89: 3470, 51: 856, 257: 1671, 147: 533, 100: 67901, 228: 2225, 39: 1560, 145: 15062, 198: 2449, 37: 5591, 66: 5268, 63: 886, 102: 778, 173: 1263, 209: 10938, 260: 4555, 218: 1124, 132: 37993, 8: 103, 188: 3677, 86: 1103, 15: 494, 69: 2095, 73: 373, 219: 1616, 252: 816, 71: 955, 95: 5712, 26: 1786, 185: 631, 149: 700, 119: 1051, 248: 526, 217: 2731, 28: 1394, 52: 2938, 120: 220, 138: 36987, 212: 515, 216: 3104, 91: 1197, 133: 1244, 192: 412, 117: 579, 14: 3057, 67: 556, 76: 2123, 123: 964, 32: 415, 54: 888, 136: 741, 175: 430, 159: 1527, 215: 1028, 222: 371, 23: 207, 178: 504, 53: 700, 230: 123162, 121: 920, 64: 537, 60: 387, 78: 686, 16: 800, 62: 2263, 200: 1540, 194: 419, 9: 403, 247: 1713, 210: 836, 174: 661, 165: 1512, 254: 821, 21: 565, 208: 656, 12: 1798, 258: 1082, 171: 729, 259: 639, 155: 1004, 11: 305, 22: 904, 167: 871, 195: 1104, 20: 526, 34: 545, 240: 177, 19: 421, 205: 1423, 124: 838, 227: 782, 191: 921, 182: 699, 1: 7886, 77: 575, 57: 159, 81: 345, 126: 570, 115: 68, 190: 817, 108: 391, 235: 1032, 250: 472, 38: 922, 31: 170, 94: 422, 150: 354, 183: 329, 55: 729, 131: 915, 203: 776, 128: 278, 135: 1368, 3: 370, 187: 18, 206: 108, 201: 424, 242: 885, 93: 649, 98: 544, 5: 71, 30: 34, 214: 70, 29: 628, 122: 337, 101: 407, 2: 6, 44: 74, 6: 46, 58: 135, 27: 63, 154: 41, 111: 32, 109: 33, 96: 99, 251: 55, 207: 410, 184: 38, 118: 77, 172: 35, 156: 49, 204: 12, 221: 82, 46: 78, 253: 51, 59: 36, 99: 2, 176: 23, 245: 37, 84: 28, 105: 3}\n"
          ]
        }
      ]
    },
    {
      "cell_type": "code",
      "source": [],
      "metadata": {
        "id": "-fkp1eqqUH0H"
      },
      "execution_count": null,
      "outputs": []
    }
  ]
}